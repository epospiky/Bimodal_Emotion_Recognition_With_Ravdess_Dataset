{
 "cells": [
  {
   "cell_type": "code",
   "execution_count": 2,
   "id": "78423cb9",
   "metadata": {},
   "outputs": [],
   "source": [
    "import os\n",
    "import re\n"
   ]
  },
  {
   "cell_type": "code",
   "execution_count": 3,
   "id": "986c6df5",
   "metadata": {},
   "outputs": [],
   "source": [
    "\n",
    "parent_dir = '/mnt/c/users/admin/desktop/rp/dataset/Ravdess_Audio_Visual'\n",
    "\n",
    "all_files = []\n",
    "\n",
    "# Get folders and sort by number\n",
    "folders = os.listdir(parent_dir) \n",
    "folders.sort(key=lambda x: int(re.search(r'\\d+', x).group()))\n",
    "\n",
    "for folder in folders:\n",
    "    folder_path = os.path.join(parent_dir, folder)\n",
    "    for dirpath, _, filenames in os.walk(folder_path):\n",
    "        for filename in filenames:\n",
    "            file_path = os.path.join(dirpath, filename)\n",
    "            all_files.append(file_path)\n",
    "\n",
    "# Rename files  \n",
    "for i, file_path in enumerate(all_files):\n",
    "    file_name = os.path.basename(file_path)\n",
    "    renamed = 'vid' + str(i+1).zfill(4) + '.mp4'\n",
    "    os.rename(file_path, os.path.join(os.path.dirname(file_path), renamed))"
   ]
  },
  {
   "cell_type": "code",
   "execution_count": 8,
   "id": "48b3caa6",
   "metadata": {},
   "outputs": [],
   "source": [
    "folder  =  '/mnt/c/users/admin/desktop/rp/dataset/feats/video'"
   ]
  },
  {
   "cell_type": "code",
   "execution_count": 4,
   "id": "2c151bbd",
   "metadata": {},
   "outputs": [],
   "source": [
    "for filename in os.listdir(folder):\n",
    "    if 'vid' in filename:\n",
    "        newname = filename.replace('vid', 'aud')\n",
    "        os.rename(os.path.join(folder,filename), os.path.join(folder, newname))"
   ]
  },
  {
   "cell_type": "code",
   "execution_count": 9,
   "id": "94a445c2",
   "metadata": {},
   "outputs": [],
   "source": [
    "for fname in os.listdir(folder):\n",
    "    if '_features' in fname:\n",
    "        pname = fname.split('_')[0]\n",
    "        nname = pname + '.npy'\n",
    "        os.rename(os.path.join(folder, fname), os.path.join(folder,nname))"
   ]
  },
  {
   "cell_type": "code",
   "execution_count": null,
   "id": "77714956",
   "metadata": {},
   "outputs": [],
   "source": []
  }
 ],
 "metadata": {
  "kernelspec": {
   "display_name": "Python 3 (ipykernel)",
   "language": "python",
   "name": "python3"
  },
  "language_info": {
   "codemirror_mode": {
    "name": "ipython",
    "version": 3
   },
   "file_extension": ".py",
   "mimetype": "text/x-python",
   "name": "python",
   "nbconvert_exporter": "python",
   "pygments_lexer": "ipython3",
   "version": "3.10.12"
  }
 },
 "nbformat": 4,
 "nbformat_minor": 5
}
